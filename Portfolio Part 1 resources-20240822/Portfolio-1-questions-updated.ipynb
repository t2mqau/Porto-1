{
 "cells": [
  {
   "cell_type": "markdown",
   "id": "skHfgkqlqndO",
   "metadata": {
    "id": "skHfgkqlqndO"
   },
   "source": [
    "## Analysis of a car sell record Dataset\n",
    "\n",
    "We have been provided with a car sell record dataset. In this dataset, we have thounds of car sell records.\n",
    "\n",
    "The structure of this dataset is represented in the header shown below.\n",
    "\n",
    "name\n",
    "year\n",
    "selling_price\n",
    "km_driven\n",
    "fuel\n",
    "seller_type\n",
    "transmission\n",
    "Owner\n",
    "\n",
    "| name | year | selling_price | km_driven| fuel | seller_type | transmission | Owner |\n",
    "\n",
    "    | ---- | ---- | ---- | ---- | ---- | ---- | ---- | ---- |   \n",
    "    \n",
    "#### Description of Fields\n",
    "\n",
    "* __name__ - detail car type of the sold car\n",
    "* __year__ - Year of the car when it was bought\n",
    "* __selling_price__ - Price at which the car is being sold\n",
    "* __km_driven__ - Number of Kilometres the car is driven\n",
    "* __fuel__ - Fuel type of car (petrol / diesel / CNG / LPG / electric)\n",
    "* __seller_type__ - Tells if a Seller is Individual or a Dealer\n",
    "* __transmission__ - Gear transmission of the car (Automatic/Manual)\n",
    "* __owner__ - Number of previous owners of the car.\n",
    "\n",
    "There are four questions to explore with the data as shown below.\n"
   ]
  },
  {
   "cell_type": "code",
   "execution_count": null,
   "id": "zNTpU9ToS8QK",
   "metadata": {
    "id": "zNTpU9ToS8QK"
   },
   "outputs": [],
   "source": [
    "your_name = \"Tittu Thomas\"\n",
    "your_student_id = \"47891653\""
   ]
  },
  {
   "cell_type": "code",
   "execution_count": null,
   "id": "giZ_rSg8ezK6",
   "metadata": {
    "colab": {
     "base_uri": "https://localhost:8080/"
    },
    "executionInfo": {
     "elapsed": 100002,
     "status": "ok",
     "timestamp": 1710290642987,
     "user": {
      "displayName": "Yuzhe Tian",
      "userId": "05567834028890049819"
     },
     "user_tz": -660
    },
    "id": "giZ_rSg8ezK6",
    "outputId": "5306c39c-4547-4a3c-a25a-b9bbef85cb8d"
   },
   "outputs": [],
   "source": [
    "# libraries you might need\n",
    "import pandas as pd\n",
    "import numpy as np\n",
    "import matplotlib.pyplot as plt\n",
    "%matplotlib inline\n",
    "\n",
    "# if you are using google colab with google drive, you could read files from google drive with the following codes\n",
    "# from google.colab import drive\n",
    "# drive.mount('/content/drive')"
   ]
  },
  {
   "cell_type": "markdown",
   "id": "-tb7B7VTqndQ",
   "metadata": {
    "id": "-tb7B7VTqndQ"
   },
   "source": [
    " ## Q1. Remove missing data\n",
    "\n",
    "Please remove the records that match ANY of the below two conditions in the csv file:\n",
    "\n",
    " * year is missing\n",
    " * fuel is 'none'\n",
    "\n",
    "__Display the DataFrame, counting number of Null values in each column, and print the length of the data__ before and after removing the missing data.  "
   ]
  },
  {
   "cell_type": "code",
   "execution_count": null,
   "id": "c849dbb7",
   "metadata": {},
   "outputs": [],
   "source": [
    "Cars_df = pd.read_csv('car_sell.csv')"
   ]
  },
  {
   "cell_type": "markdown",
   "id": "EJG9_LEmqndR",
   "metadata": {
    "id": "EJG9_LEmqndR"
   },
   "source": [
    "## Q2. Descriptive statistics\n",
    "\n",
    "With the cleaned data in Q1, please provide the data summarization as below:\n",
    "\n",
    "* Q2.1 total number of unique name, unique seller_type, unique transmission, and unique owner\n",
    "* Q2.2 descriptive statistics, including the total number, mean, std, min and max regarding all km_driven\n",
    "* Q2.3 descriptive statistics, including mean, std, max, and min of the number of selling_price grouped by different seller_type\n",
    "* Q2.4 descriptive statistics, including mean, std, max, min of the number of years that sold by each owner type\n"
   ]
  },
  {
   "cell_type": "markdown",
   "id": "PISggxe5qndR",
   "metadata": {
    "id": "PISggxe5qndR"
   },
   "source": [
    "## Q3. Plotting and Analysis\n",
    "\n",
    "Please try to explore the correlation between fuel/year/seller_type/transmission/owner and selling_price; for instance, do First Owner cars tend to sell higher prices than second owner cars? Hint: you may use the boxplot function to plot figures for comparison\n",
    "    \n",
    "You may need to select the most suitable graphic forms for ease of presentation. Most importantly, for each figure or subfigure, please summarise ___what each plot shows___ (i.e. observations and explanations). Finally, you are required to provide an overall summary of your findings from the plots you generated."
   ]
  },
  {
   "cell_type": "markdown",
   "id": "TxD3SLxRqndR",
   "metadata": {
    "id": "TxD3SLxRqndR"
   },
   "source": [
    "## Q4. Detect and remove outliers\n",
    "\n",
    "We define car sale records WITHOUT following ANY of the below three rules as outliers:\n",
    "\n",
    "1. owner to be first, second and third owner only\n",
    "2. Fuel to be Diesel or Petrol only\n",
    "3. Seller_type to be dealer or individual only\n",
    "\n",
    "Please remove the corresponding records in the csv file that is not qualified with the rules. After that, __print the length of the data__."
   ]
  }
 ],
 "metadata": {
  "colab": {
   "provenance": []
  },
  "kernelspec": {
   "display_name": "Python 3 (ipykernel)",
   "language": "python",
   "name": "python3"
  },
  "language_info": {
   "codemirror_mode": {
    "name": "ipython",
    "version": 3
   },
   "file_extension": ".py",
   "mimetype": "text/x-python",
   "name": "python",
   "nbconvert_exporter": "python",
   "pygments_lexer": "ipython3",
   "version": "3.11.5"
  }
 },
 "nbformat": 4,
 "nbformat_minor": 5
}
